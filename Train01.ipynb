{
 "cells": [
  {
   "cell_type": "code",
   "execution_count": 1,
   "metadata": {},
   "outputs": [],
   "source": [
    "import asyncio\n",
    "import io\n",
    "import glob\n",
    "import os\n",
    "import sys\n",
    "import time\n",
    "import uuid\n",
    "import requests\n",
    "from urllib.parse import urlparse\n",
    "from io import BytesIO\n",
    "from PIL import Image, ImageDraw\n",
    "from azure.cognitiveservices.vision.face import FaceClient\n",
    "from msrest.authentication import CognitiveServicesCredentials\n",
    "from azure.cognitiveservices.vision.face.models import TrainingStatusType, Person, SnapshotObjectType, OperationStatusType"
   ]
  },
  {
   "cell_type": "code",
   "execution_count": 2,
   "metadata": {},
   "outputs": [],
   "source": [
    "import matplotlib.pyplot as plt"
   ]
  },
  {
   "cell_type": "code",
   "execution_count": 19,
   "metadata": {},
   "outputs": [],
   "source": [
    "# Set the FACE_SUBSCRIPTION_KEY environment variable with your key as the value.\n",
    "# This key will serve all examples in this document.\n",
    "KEY = os.environ['FACE_SUBSCRIPTION_KEY']\n",
    "# Set the FACE_ENDPOINT environment variable with the endpoint from your Face service in Azure.\n",
    "# This endpoint will be used in all examples in this quickstart.\n",
    "ENDPOINT = os.environ['FACE_ENDPOINT']"
   ]
  },
  {
   "cell_type": "code",
   "execution_count": 4,
   "metadata": {},
   "outputs": [],
   "source": [
    "# Create an authenticated FaceClient.\n",
    "face_client = FaceClient(ENDPOINT, CognitiveServicesCredentials(KEY))"
   ]
  },
  {
   "cell_type": "code",
   "execution_count": 5,
   "metadata": {
    "scrolled": false
   },
   "outputs": [
    {
     "data": {
      "text/plain": [
       "['17',\n",
       " '15',\n",
       " '4',\n",
       " '13',\n",
       " '12',\n",
       " '10',\n",
       " '3',\n",
       " '1',\n",
       " '2',\n",
       " '5',\n",
       " '6',\n",
       " '7',\n",
       " '8',\n",
       " '9',\n",
       " '11',\n",
       " '14',\n",
       " '16',\n",
       " '18',\n",
       " '19',\n",
       " '20',\n",
       " '21',\n",
       " '22',\n",
       " '23',\n",
       " '24',\n",
       " 'Icon\\r']"
      ]
     },
     "execution_count": 5,
     "metadata": {},
     "output_type": "execute_result"
    }
   ],
   "source": [
    "os.listdir(\"/Volumes/GoogleDrive/Shared drives/Facefortrainning\")"
   ]
  },
  {
   "cell_type": "code",
   "execution_count": 13,
   "metadata": {},
   "outputs": [],
   "source": [
    "PERSON_GROUP_ID = 'demo3'"
   ]
  },
  {
   "cell_type": "code",
   "execution_count": 29,
   "metadata": {},
   "outputs": [],
   "source": [
    "face_client.person_group.delete(person_group_id=PERSON_GROUP_ID, name=PERSON_GROUP_ID)"
   ]
  },
  {
   "cell_type": "code",
   "execution_count": 30,
   "metadata": {},
   "outputs": [
    {
     "name": "stdout",
     "output_type": "stream",
     "text": [
      "Person group: demo3\n"
     ]
    }
   ],
   "source": [
    "# Create empty Person Group. Person Group ID must be lower case, alphanumeric, and/or with '-', '_'.\n",
    "print('Person group:', PERSON_GROUP_ID)\n",
    "face_client.person_group.create(person_group_id=PERSON_GROUP_ID, name=PERSON_GROUP_ID)"
   ]
  },
  {
   "cell_type": "code",
   "execution_count": 15,
   "metadata": {},
   "outputs": [],
   "source": [
    "def getRectangle(faceDictionary):\n",
    "    rect = faceDictionary.face_rectangle\n",
    "    left = rect.left\n",
    "    top = rect.top\n",
    "    right = left + rect.width\n",
    "    bottom = top + rect.height\n",
    "    \n",
    "    return ((left, top), (right, bottom))"
   ]
  },
  {
   "cell_type": "code",
   "execution_count": 16,
   "metadata": {},
   "outputs": [],
   "source": [
    "dict_user={}"
   ]
  },
  {
   "cell_type": "code",
   "execution_count": 34,
   "metadata": {
    "scrolled": false
   },
   "outputs": [
    {
     "data": {
      "text/plain": [
       "{'b5663c32-50d8-47cd-98b2-cd633ba4e5a2': '17',\n",
       " '1a540303-e69a-4c93-9bfa-ab3960c6580e': '15',\n",
       " '24c77cd1-bf67-44a6-8345-e46a26d4095c': '17',\n",
       " '4639437c-5319-4498-b91d-18848718025a': '15',\n",
       " 'f60d0c77-d97c-4cf0-b3b5-4e64d03ee109': '17',\n",
       " '94bb4e91-b615-4692-bb42-7e9d99fd616d': '17',\n",
       " '27123291-fcb4-41dc-9905-0061a02f7a2d': '15',\n",
       " '752f8a95-8ff7-470f-9601-422ea0307f37': '17',\n",
       " '6d9ad337-433d-471e-aa09-bba7de71ba42': '15',\n",
       " 'ea0ad98b-4437-42c2-8c07-c9713c423753': '4',\n",
       " 'a343843a-474c-4a6d-9488-e63cbd5a93f5': '13',\n",
       " '07c394d5-5d5a-45cc-93ed-1532895c3156': '12',\n",
       " 'f6b31dbe-f6bc-4e7a-b559-b1fe32238e0e': '12',\n",
       " '0ad86b07-72db-4820-b1ec-8994657b970a': '10',\n",
       " 'c48aae2b-b4ff-4019-899a-ff5fafd45460': '3',\n",
       " '624eb04d-fc9f-4242-98c6-e8666ababf84': '1',\n",
       " '0748ce85-3d0a-4d2f-b75a-3ba16ebc875a': '2',\n",
       " 'b18dd70e-55bc-41e2-a417-f5ca988db799': '5',\n",
       " '8ea518b0-32c1-433f-8f62-0239dd18823a': '6',\n",
       " '73ab8b1a-971f-4a35-8de9-7ae05ee1c96f': '7',\n",
       " 'da0944e9-0e89-40f5-a4af-ec80d5707eb5': '8',\n",
       " '6a33b4fe-7d8b-42ae-9459-10f0bf355d0c': '9',\n",
       " 'fb98db8f-2d7e-4e8c-8fa9-90817a67874a': '11',\n",
       " '851c9fa9-c112-498e-9b28-1d13123ccd19': '14',\n",
       " '9e18bdbc-3a92-427c-ab49-1aa057855423': '16',\n",
       " 'fa9870d7-44bc-440a-930e-36203ad06865': '18',\n",
       " 'f5ddee0c-f46f-4bf7-b7b5-a25fe072e512': '19',\n",
       " '7263051a-4db2-4619-bdc0-d6e154fb6503': '20',\n",
       " '1e3c33fc-46bf-4208-bd62-75cad58a1273': '21',\n",
       " '9038f94c-58f4-41fa-b814-a1a1352c0e8c': '22',\n",
       " 'd471fe4a-689b-4ddc-9bc7-611608b7607e': '23',\n",
       " 'b53218b8-9133-4148-ad55-5cf75c7f4307': '24',\n",
       " '81a0c260-1f0c-44ce-b56e-de1e01f643f3': 'Icon\\r',\n",
       " '58846f8c-7ac0-411b-8851-5f8958c720b3': '23'}"
      ]
     },
     "execution_count": 34,
     "metadata": {},
     "output_type": "execute_result"
    }
   ],
   "source": [
    "dict_user"
   ]
  },
  {
   "cell_type": "code",
   "execution_count": 18,
   "metadata": {
    "scrolled": false
   },
   "outputs": [],
   "source": [
    "w = open(pathofphoto, 'r+b')\n",
    "detected_faces = face_client.face.detect_with_stream(w)\n",
    "time.sleep(10)"
   ]
  },
  {
   "cell_type": "code",
   "execution_count": 33,
   "metadata": {
    "scrolled": false
   },
   "outputs": [
    {
     "name": "stdout",
     "output_type": "stream",
     "text": [
      "23\n",
      "78 76 178 176\n"
     ]
    },
    {
     "data": {
      "image/png": "[encoded data removed]",
      "text/plain": [
       "<Figure size 432x288 with 1 Axes>"
      ]
     },
     "metadata": {
      "needs_background": "light"
     },
     "output_type": "display_data"
    },
    {
     "name": "stdout",
     "output_type": "stream",
     "text": [
      "jpg\n",
      "png\n"
     ]
    }
   ],
   "source": [
    "boo =True\n",
    "for name in os.listdir(\"/Volumes/GoogleDrive/Shared drives/Facefortrainning\"):\n",
    "    if (name not in ['23']):\n",
    "        continue\n",
    "    dirofname=\"/Volumes/GoogleDrive/Shared drives/Facefortrainning/\"+name\n",
    "    print(name)\n",
    "    person_group_person = face_client.person_group_person.create(PERSON_GROUP_ID, name)\n",
    "    list_img=[]\n",
    "    dict_user[person_group_person.person_id]=name\n",
    "    for photo in os.listdir(dirofname):\n",
    "        if(photo[-4:]!=\".jpg\" and photo[-4:]!=\".png\"):\n",
    "            continue\n",
    "        pathofphoto=dirofname+\"/\"+photo\n",
    "        w = open(pathofphoto, 'r+b')\n",
    "        \n",
    "        boo=True\n",
    "        while(boo):\n",
    "            time.sleep(10)\n",
    "            try:\n",
    "                detected_faces = face_client.face.detect_with_stream(w)\n",
    "                boo=False\n",
    "            except Exception as e:\n",
    "                print(\"except\" ,e)\n",
    "                time.sleep(10)\n",
    "                continue\n",
    "            \n",
    "        if not detected_faces:\n",
    "            print('No face detected from image')\n",
    "            continue\n",
    "        for face in detected_faces:\n",
    "            ((left, top), (right, bottom))=getRectangle(face)\n",
    "        print(left, top, right, bottom)\n",
    "        img = Image.open(pathofphoto)\n",
    "        img=img.crop((left, top, right, bottom))\n",
    "        plt.imshow(img)\n",
    "        plt.show()\n",
    "        list_img.append(img)\n",
    "    for i in list_img:\n",
    "        \n",
    "        try:\n",
    "            print(\"jpg\")\n",
    "            i.save(\"temp.jpg\")\n",
    "            w = open(\"temp.jpg\", 'r+b')\n",
    "        except:\n",
    "            print(\"png\")\n",
    "            i.save(\"temp.png\")\n",
    "            w = open(\"temp.png\", 'r+b')\n",
    "        \n",
    "        boo=True\n",
    "        while(boo):\n",
    "            time.sleep(10)\n",
    "            try:\n",
    "                face_client.person_group_person.add_face_from_stream(PERSON_GROUP_ID, person_group_person.person_id, w)\n",
    "                boo=False\n",
    "            except Exception as e:\n",
    "                print(\"except 2\",e)\n",
    "                time.sleep(10)\n",
    "                continue\n",
    "        "
   ]
  },
  {
   "cell_type": "code",
   "execution_count": 36,
   "metadata": {},
   "outputs": [
    {
     "name": "stdout",
     "output_type": "stream",
     "text": [
      "\n",
      "Training the person group...\n",
      "Training status: running.\n",
      "\n",
      "Training status: succeeded.\n",
      "\n"
     ]
    }
   ],
   "source": [
    "'''\n",
    "Train PersonGroup\n",
    "'''\n",
    "print()\n",
    "print('Training the person group...')\n",
    "# Train the person group\n",
    "face_client.person_group.train(PERSON_GROUP_ID)\n",
    "\n",
    "while (True):\n",
    "    training_status = face_client.person_group.get_training_status(PERSON_GROUP_ID)\n",
    "    print(\"Training status: {}.\".format(training_status.status))\n",
    "    print()\n",
    "    if (training_status.status is TrainingStatusType.succeeded):\n",
    "        break\n",
    "    elif (training_status.status is TrainingStatusType.failed):\n",
    "        sys.exit('Training the person group has failed.')\n",
    "    time.sleep(5)"
   ]
  },
  {
   "cell_type": "code",
   "execution_count": null,
   "metadata": {},
   "outputs": [],
   "source": [
    "'''\n",
    "Identify a face against a defined PersonGroup\n",
    "'''\n",
    "# Group image for testing against\n",
    "group_photo = 'test-image-person-group.jpg'\n",
    "IMAGES_FOLDER = os.path.join(os.path.dirname(os.path.realpath(\"__file__\")),\"Officail_samples\")\n",
    "\n",
    "# Get test image\n",
    "test_image_array = glob.glob(os.path.join(IMAGES_FOLDER, group_photo))\n",
    "image = open(test_image_array[0], 'r+b')\n",
    "\n",
    "# Detect faces\n",
    "face_ids = []\n",
    "faces = face_client.face.detect_with_stream(image)\n",
    "for face in faces:\n",
    "    face_ids.append(face.face_id)"
   ]
  },
  {
   "cell_type": "code",
   "execution_count": null,
   "metadata": {},
   "outputs": [],
   "source": [
    "# Identify faces\n",
    "results = face_client.face.identify(face_ids, PERSON_GROUP_ID)\n",
    "print('Identifying faces in {}'.format(os.path.basename(image.name)))\n",
    "if not results:\n",
    "    print('No person identified in the person group for faces from {}.'.format(os.path.basename(image.name)))\n",
    "for person in results:\n",
    "    print('Person for face ID {} is identified in {} with a confidence of {}.'.format(person.face_id, os.path.basename(image.name), person.candidates[0].confidence)) # Get topmost confidence score"
   ]
  }
 ],
 "metadata": {
  "kernelspec": {
   "display_name": "Python 3",
   "language": "python",
   "name": "python3"
  },
  "language_info": {
   "codemirror_mode": {
    "name": "ipython",
    "version": 3
   },
   "file_extension": ".py",
   "mimetype": "text/x-python",
   "name": "python",
   "nbconvert_exporter": "python",
   "pygments_lexer": "ipython3",
   "version": "3.7.3"
  }
 },
 "nbformat": 4,
 "nbformat_minor": 2
}
